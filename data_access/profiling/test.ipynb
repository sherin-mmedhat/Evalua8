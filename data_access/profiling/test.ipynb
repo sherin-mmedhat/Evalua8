{
 "cells": [
  {
   "cell_type": "code",
   "execution_count": 1,
   "id": "e96af9e7-4bd4-48c4-9db0-0f89a73064ab",
   "metadata": {},
   "outputs": [
    {
     "name": "stdout",
     "output_type": "stream",
     "text": [
      "<neo4j.work.result.Result object at 0x7f2555202050>\n"
     ]
    }
   ],
   "source": [
    "from repository import EmployeeRepository\n",
    "\n",
    "result =EmployeeRepository.get_employee_details(1)"
   ]
  },
  {
   "cell_type": "code",
   "execution_count": null,
   "id": "9f06f658-b6a7-442b-95ba-2be6484d53f8",
   "metadata": {},
   "outputs": [],
   "source": []
  },
  {
   "cell_type": "code",
   "execution_count": null,
   "id": "9eaf02d7-04d4-4a32-9022-400f59ddf9f1",
   "metadata": {},
   "outputs": [],
   "source": []
  }
 ],
 "metadata": {
  "kernelspec": {
   "display_name": "Python 3 (ipykernel)",
   "language": "python",
   "name": "python3"
  },
  "language_info": {
   "codemirror_mode": {
    "name": "ipython",
    "version": 3
   },
   "file_extension": ".py",
   "mimetype": "text/x-python",
   "name": "python",
   "nbconvert_exporter": "python",
   "pygments_lexer": "ipython3",
   "version": "3.11.6"
  }
 },
 "nbformat": 4,
 "nbformat_minor": 5
}
