{
 "cells": [
  {
   "cell_type": "code",
   "execution_count": 2,
   "id": "e96af9e7-4bd4-48c4-9db0-0f89a73064ab",
   "metadata": {},
   "outputs": [
    {
     "name": "stdout",
     "output_type": "stream",
     "text": [
      "{'employee': {'level': 'Level-6', 'name': 'Mai', 'id': 8, 'department': 'Quality', 'job_title': 'Quality Team Lead'}, 'projects': [], 'squads': []}\n"
     ]
    }
   ],
   "source": [
    "from repository import EmployeeRepository\n",
    "\n",
    "result =EmployeeRepository.get_employee_details(8)\n",
    "print(result)"
   ]
  },
  {
   "cell_type": "code",
   "execution_count": 3,
   "id": "9f06f658-b6a7-442b-95ba-2be6484d53f8",
   "metadata": {},
   "outputs": [
    {
     "name": "stdout",
     "output_type": "stream",
     "text": [
      "[{'team': 'Engineering Team', 'employees': [{'level': 'Level-5', 'employees': [{'id': 1, 'level': 'Level-5', 'name': 'Hadeer', 'job_title': 'Senior Software Engineer'}]}, {'level': 'Level-3', 'employees': [{'id': 3, 'level': 'Level-3', 'name': 'Sara', 'job_title': 'Front-end Software Engineer 2'}]}, {'level': 'Level-2', 'employees': [{'id': 2, 'level': 'Level-2', 'name': 'Ziad', 'job_title': 'Software Engineer 1'}, {'id': 4, 'level': 'Level-2', 'name': 'Huda', 'job_title': 'Front-end Software Engineer 1'}]}]}, {'team': 'Product Team', 'employees': [{'level': 'Level-7', 'employees': [{'id': 7, 'level': 'Level-7', 'name': 'Esraa', 'job_title': 'Product Director'}]}, {'level': 'Level-3', 'employees': [{'id': 6, 'level': 'Level-3', 'name': 'Yara', 'job_title': 'Product Manager'}]}]}, {'team': 'Quality Team', 'employees': [{'level': 'Level-6', 'employees': [{'id': 8, 'level': 'Level-6', 'name': 'Mai', 'job_title': 'Quality Team Lead'}]}, {'level': 'Level-2', 'employees': [{'id': 5, 'level': 'Level-2', 'name': 'Menna', 'job_title': 'Quality Control Engineer 2'}]}]}]\n"
     ]
    }
   ],
   "source": [
    "from repository import EmployeeRepository\n",
    "\n",
    "result =EmployeeRepository.get_employees_hirerachy()\n",
    "print(result)"
   ]
  },
  {
   "cell_type": "code",
   "execution_count": 6,
   "id": "9eaf02d7-04d4-4a32-9022-400f59ddf9f1",
   "metadata": {},
   "outputs": [
    {
     "name": "stdout",
     "output_type": "stream",
     "text": [
      "[{'employeeId': 4, 'employeeName': 'Huda', 'mentees': [], 'colleagues': [{'id': 6, 'level': 'Level-3', 'department': 'Product', 'name': 'Yara', 'job_title': 'Product Manager'}, {'id': 5, 'level': 'Level-2', 'department': 'Quality', 'name': 'Menna', 'job_title': 'Quality Control Engineer 2'}, {'id': 3, 'level': 'Level-3', 'department': 'Engineering', 'name': 'Sara', 'job_title': 'Front-end Software Engineer 2'}, {'id': 2, 'level': 'Level-2', 'department': 'Engineering', 'name': 'Ziad', 'job_title': 'Software Engineer 1'}, {'id': 1, 'level': 'Level-5', 'department': 'Engineering', 'name': 'Hadeer', 'job_title': 'Senior Software Engineer'}], 'mentors': [{'id': 3, 'level': 'Level-3', 'department': 'Engineering', 'name': 'Sara', 'job_title': 'Front-end Software Engineer 2'}]}]\n"
     ]
    }
   ],
   "source": [
    "from repository import EmployeeRepository\n",
    "\n",
    "result =EmployeeRepository.get_employees_to_evaluate(4)\n",
    "print(result)\n"
   ]
  },
  {
   "cell_type": "code",
   "execution_count": null,
   "id": "40fa66c0-3c4a-47a5-9456-e178116c016e",
   "metadata": {},
   "outputs": [],
   "source": []
  }
 ],
 "metadata": {
  "kernelspec": {
   "display_name": "Python 3 (ipykernel)",
   "language": "python",
   "name": "python3"
  },
  "language_info": {
   "codemirror_mode": {
    "name": "ipython",
    "version": 3
   },
   "file_extension": ".py",
   "mimetype": "text/x-python",
   "name": "python",
   "nbconvert_exporter": "python",
   "pygments_lexer": "ipython3",
   "version": "3.11.6"
  }
 },
 "nbformat": 4,
 "nbformat_minor": 5
}
