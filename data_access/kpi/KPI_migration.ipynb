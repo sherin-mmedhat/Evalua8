{
 "cells": [
  {
   "cell_type": "code",
   "execution_count": 1,
   "id": "b98ccb3e-a02f-4548-8574-2448e474c35c",
   "metadata": {},
   "outputs": [
    {
     "name": "stdout",
     "output_type": "stream",
     "text": [
      "/app\n",
      "/app/data/kpi/SSE_KPI.csv\n",
      "/app/data/kpi/SE1_KPI.csv\n",
      "/app/data/kpi/Front_SE2_KPI.csv\n",
      "File not found at path: /app/data/kpi/Front_SE2_KPI.csv\n",
      "/app/data/kpi/PM_KPI.csv\n",
      "File not found at path: /app/data/kpi/PM_KPI.csv\n"
     ]
    }
   ],
   "source": [
    "from config import DATABASE_NAME, COLLECTION_KPI_NAME\n",
    "from mongodb_connection import MongodbConnection\n",
    "import os\n",
    "import csv\n",
    "\n",
    "connection = MongodbConnection(DATABASE_NAME)\n",
    "\n",
    "current_directory = os.path.abspath(os.path.join(os.getcwd(), '..', '..'))\n",
    "print(current_directory)\n",
    "# # Now construct the full path to your file\n",
    "# file_path = os.path.join(current_directory, 'data', 'kpi', f\"{code}_KPI.csv\")\n",
    "\n",
    "# Now construct the full path to your file\n",
    "\n",
    "# directory = \"file:///data/kpi/\"\n",
    "# filename = \"SSE_KPI.csv\"\n",
    "\n",
    "codes = ['SSE', 'SE1', 'Front_SE2', 'PM' ]\n",
    "### create document for senior sw engineer \n",
    "for code in codes:\n",
    "    connection.drop_collection(code)\n",
    "    file_path = os.path.join(current_directory, 'data', 'kpi', f\"{code}_KPI.csv\")\n",
    "    print(file_path)\n",
    "    if os.path.exists(file_path):\n",
    "        with open(file_path, 'r') as file:\n",
    "         csv_file = csv.DictReader(file)\n",
    "         data_to_insert = list(csv_file)\n",
    "         connection.create_documents(code, data_to_insert)\n",
    "    else:\n",
    "        print(f\"File not found at path: {file_path}\")    \n"
   ]
  },
  {
   "cell_type": "code",
   "execution_count": 3,
   "id": "b262a751-d943-4da2-aa52-1f4e9157dbbe",
   "metadata": {},
   "outputs": [
    {
     "name": "stdout",
     "output_type": "stream",
     "text": [
      "{'_id': ObjectId('657196b3833fb967497b0ff5'), 'id': '1', 'KPI': 'Advanced Productivity', 'Question': 'Leading in project planning and getting things done.', 'Weight': '0.5', 'Job_title': 'Senior Software Engineer', 'EM': 'Yes', 'TL': 'Yes', 'PM': 'Yes', 'QC': 'No', 'ME_BY': 'No', 'CL': 'No'}\n",
      "['_id', 'id', 'KPI', 'Question', 'Weight', 'Job_title', 'EM', 'TL', 'PM', 'QC', 'ME_BY', 'CL']\n"
     ]
    },
    {
     "data": {
      "text/plain": [
       "dict_keys(['Job_title', 'EM', 'TL', 'PM', 'QC', 'ME_BY', 'CL'])"
      ]
     },
     "execution_count": 3,
     "metadata": {},
     "output_type": "execute_result"
    }
   ],
   "source": [
    "from config import DATABASE_NAME, COLLECTION_KPI_NAME\n",
    "from mongodb_connection import MongodbConnection\n",
    "\n",
    "\n",
    "connection = MongodbConnection(DATABASE_NAME)\n",
    "docs= connection.find_document(\"SE1\")\n",
    "print(docs)\n",
    "column_names = list(docs.keys())\n",
    "print(column_names)\n",
    "projection = {'Question': 0, 'KPI': 0, '_id': 0, 'id': 0, 'Weight': 0, 'Job_title_code': 0}\n",
    "document = connection.find_document(\"SE1\", None, projection)\n",
    "document.keys()\n"
   ]
  },
  {
   "cell_type": "code",
   "execution_count": 4,
   "id": "08a7df66-65a3-4838-b9ac-231a7fcbe3b5",
   "metadata": {},
   "outputs": [
    {
     "name": "stdout",
     "output_type": "stream",
     "text": [
      "{'apple': 'fruit', 'banana': 'fruit', 'orange': 'fruit'}\n"
     ]
    }
   ],
   "source": []
  },
  {
   "cell_type": "code",
   "execution_count": null,
   "id": "b29da800-afd8-4756-beb8-f2d7980cf38b",
   "metadata": {},
   "outputs": [],
   "source": []
  }
 ],
 "metadata": {
  "kernelspec": {
   "display_name": "Python 3 (ipykernel)",
   "language": "python",
   "name": "python3"
  },
  "language_info": {
   "codemirror_mode": {
    "name": "ipython",
    "version": 3
   },
   "file_extension": ".py",
   "mimetype": "text/x-python",
   "name": "python",
   "nbconvert_exporter": "python",
   "pygments_lexer": "ipython3",
   "version": "3.11.6"
  }
 },
 "nbformat": 4,
 "nbformat_minor": 5
}
