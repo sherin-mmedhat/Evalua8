{
 "cells": [
  {
   "cell_type": "code",
   "execution_count": 1,
   "id": "292e6684-34bc-4184-9472-a00e31611187",
   "metadata": {},
   "outputs": [
    {
     "name": "stdout",
     "output_type": "stream",
     "text": [
      "{\n",
      "  \"question\": \"Does employee work well with others, or he lacks in this category?\",\n",
      "  \"is_sufficient\": true,\n",
      "  \"suggestions\": []\n",
      "},\n",
      "{\n",
      "  \"question\": \"Responding quickly when others need help or support.\",\n",
      "  \"is_sufficient\": true,\n",
      "  \"suggestions\": []\n",
      "},\n",
      "{\n",
      "  \"question\": \"Adding valuable input to team discussions and decisions.\",\n",
      "  \"is_sufficient\": false,\n",
      "  \"suggestions\": [\"Can you provide specific examples of when employee x added valuable input to team discussions and decisions?\", \"Can you give more details on the suggestions that were addressed and how employee x reached the optimal solution?\"]\n",
      "}\n",
      "{\n",
      "  \"question\": \"Does employee work well with others, or he lacks in this category?\",\n",
      "  \"is_sufficient\": true,\n",
      "  \"suggestions\": []\n",
      "},\n",
      "{\n",
      "  \"question\": \"Responding quickly when others need help or support.\",\n",
      "  \"is_sufficient\": true,\n",
      "  \"suggestions\": []\n",
      "},\n",
      "{\n",
      "  \"question\": \"Adding valuable input to team discussions and decisions.\",\n",
      "  \"is_sufficient\": false,\n",
      "  \"suggestions\": [\"Can you provide specific examples of when employee x added valuable input to team discussions and decisions?\", \"Can you give more details on the suggestions that were addressed and how employee x reached the optimal solution?\"]\n",
      "}\n"
     ]
    }
   ],
   "source": [
    "from feedback_validation_service import FeedbackValidationService\n",
    "\n",
    "#x communicated well when there was an issue and was very constructive to resolve the issue, addresed many suggested answer and reached the optimal one \n",
    "feedbacks_example = [ \"he is good\",\"x communicated well when there was an issue and was very constructive to resolve the issue, addresed many suggested answer and reached the optimal one \"]\n",
    "kpis_example = [\"Team work\"]\n",
    "questions_example = [\"Does employee work well with others, or he lacks in this category?.\" \n",
    "                     ,\"Responding quickly when others need help or support.\",\n",
    "      \"Adding valuable input to team discussions and decisions.\"\n",
    "\n",
    "]\n",
    "\n",
    "sufficiency_results = FeedbackValidationService().are_feedbacks_sufficient(feedbacks_example, kpis_example, questions_example)\n",
    "print(sufficiency_results)"
   ]
  },
  {
   "cell_type": "code",
   "execution_count": null,
   "id": "05d3cbb3-9e2e-4dce-b24c-67a5ba5492e7",
   "metadata": {},
   "outputs": [],
   "source": []
  },
  {
   "cell_type": "code",
   "execution_count": null,
   "id": "49627b1a-460b-4d2f-99ee-5e03199fd3c8",
   "metadata": {},
   "outputs": [],
   "source": []
  }
 ],
 "metadata": {
  "kernelspec": {
   "display_name": "Python 3 (ipykernel)",
   "language": "python",
   "name": "python3"
  },
  "language_info": {
   "codemirror_mode": {
    "name": "ipython",
    "version": 3
   },
   "file_extension": ".py",
   "mimetype": "text/x-python",
   "name": "python",
   "nbconvert_exporter": "python",
   "pygments_lexer": "ipython3",
   "version": "3.11.6"
  }
 },
 "nbformat": 4,
 "nbformat_minor": 5
}
