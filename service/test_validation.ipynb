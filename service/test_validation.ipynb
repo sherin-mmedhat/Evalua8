{
 "cells": [
  {
   "cell_type": "code",
   "execution_count": 1,
   "id": "292e6684-34bc-4184-9472-a00e31611187",
   "metadata": {
    "scrolled": true
   },
   "outputs": [
    {
     "name": "stdout",
     "output_type": "stream",
     "text": [
      "ChatCompletion(id='chatcmpl-8PD4ufy859a9RhsHWLf1GQjvSjHiW', choices=[Choice(finish_reason='stop', index=0, message=ChatCompletionMessage(content='[{\"question_id\": \"1\", \"is_sufficient\": \"true\", \"suggestions\": \"\"}, {\"question_id\": \"2\", \"is_sufficient\": \"true\", \"suggestions\": \"\"}, {\"question_id\": \"3\", \"is_sufficient\": \"true\", \"suggestions\": \"\"}]', role='assistant', function_call=None, tool_calls=None))], created=1701019164, model='gpt-3.5-turbo-0613', object='chat.completion', system_fingerprint=None, usage=CompletionUsage(completion_tokens=64, prompt_tokens=247, total_tokens=311))\n",
      "[{\"question_id\": \"1\", \"is_sufficient\": \"true\", \"suggestions\": \"\"}, {\"question_id\": \"2\", \"is_sufficient\": \"true\", \"suggestions\": \"\"}, {\"question_id\": \"3\", \"is_sufficient\": \"true\", \"suggestions\": \"\"}]\n"
     ]
    }
   ],
   "source": [
    "from feedback_validation_service import FeedbackValidationService\n",
    "\n",
    "#x communicated well when there was an issue and was very constructive to resolve the issue, addresed many suggested answer and reached the optimal one \n",
    "feedbacks_example = [ \"x communicated well when there was an issue and was very constructive to resolve the issue, addresed many suggested answer and reached the optimal one\"]\n",
    "kpis_example = [\"Team work\"]\n",
    "questions_example = [\n",
    "    {\"id\":\"1\",\n",
    "     \"question\" :\"Working well with others and helping create a positive team environment.\" \n",
    "    },\n",
    "    {\"id\":\"2\",\n",
    "     \"question\" :\"Responding quickly when others need help or support.\"\n",
    "    },\n",
    "    {\n",
    "     \"id\":\"3\",\n",
    "     \"question\" : \"Adding valuable input to team discussions and decisions.\"\n",
    "    }\n",
    "]\n",
    "\n",
    "sufficiency_results = FeedbackValidationService().are_feedbacks_sufficient(feedbacks_example, kpis_example, questions_example)\n",
    "print(sufficiency_results)"
   ]
  },
  {
   "cell_type": "code",
   "execution_count": null,
   "id": "05d3cbb3-9e2e-4dce-b24c-67a5ba5492e7",
   "metadata": {},
   "outputs": [],
   "source": []
  }
 ],
 "metadata": {
  "kernelspec": {
   "display_name": "Python 3 (ipykernel)",
   "language": "python",
   "name": "python3"
  },
  "language_info": {
   "codemirror_mode": {
    "name": "ipython",
    "version": 3
   },
   "file_extension": ".py",
   "mimetype": "text/x-python",
   "name": "python",
   "nbconvert_exporter": "python",
   "pygments_lexer": "ipython3",
   "version": "3.11.6"
  }
 },
 "nbformat": 4,
 "nbformat_minor": 5
}
